{
 "metadata": {
  "language": "lua",
  "name": "",
  "signature": "sha256:bd409996d7c394bdde7faa7968faa82c842c7fedafe27dbb221cfb66291ea6fd"
 },
 "nbformat": 3,
 "nbformat_minor": 0,
 "worksheets": [
  {
   "cells": [
    {
     "cell_type": "code",
     "collapsed": false,
     "input": [
      "m = require 'manifold';"
     ],
     "language": "python",
     "metadata": {},
     "outputs": [],
     "prompt_number": 4
    },
    {
     "cell_type": "code",
     "collapsed": false,
     "input": [
      "require 'torch'\n",
      "require 'nn'\n",
      "require 'image'\n",
      "require 'optim'\n",
      "require 'csvigo'\n",
      "require 'cunn'\n",
      "dofile '/home/ubuntu/Deep-Learning/Deep-Learning/assignment-2/testing/provider.lua'\n",
      "trsize = 5000\n",
      "testsize = 8000\n",
      "channel = 3\n",
      "height = 96\n",
      "width = 96\n"
     ],
     "language": "python",
     "metadata": {},
     "outputs": [
      {
       "ename": "/home/ubuntu/torch/install/share/lua/5.1/torch/init.lua:102: Provider has been already assigned a factory\nstack traceback:\n\t[C]: in function 'newmetatable'\n\t/home/ubuntu/torch/install/share/lua/5.1/torch/init.lua:102: in function 'class'\n\t...Learning/Deep-Learning/assignment-2/testing/provider.lua:25: in main chunk\n\t[C]: in function 'dofile'\n\t[string \"require 'torch'...\"]:7: in main chunk\n\t[C]: in function 'xpcall'\n\t/home/ubuntu/torch/install/share/lua/5.1/itorch/main.lua:209: in function </home/ubuntu/torch/install/share/lua/5.1/itorch/main.lua:173>\n\t/home/ubuntu/torch/install/share/lua/5.1/lzmq/poller.lua:75: in function 'poll'\n\t/home/ubuntu/torch/install/share/lua/5.1/lzmq/impl/loop.lua:307: in function 'poll'\n\t/home/ubuntu/torch/install/share/lua/5.1/lzmq/impl/loop.lua:325: in function 'sleep_ex'\n\t/home/ubuntu/torch/install/share/lua/5.1/lzmq/impl/loop.lua:370: in function 'start'\n\t/home/ubuntu/torch/install/share/lua/5.1/itorch/main.lua:381: in main chunk\n\t[C]: in function 'require'\n\t(command line):1: in main chunk\n\t[C]: at 0x00406670",
       "evalue": "",
       "output_type": "pyerr",
       "traceback": [
        "/home/ubuntu/torch/install/share/lua/5.1/torch/init.lua:102: Provider has been already assigned a factory\nstack traceback:\n\t[C]: in function 'newmetatable'\n\t/home/ubuntu/torch/install/share/lua/5.1/torch/init.lua:102: in function 'class'\n\t...Learning/Deep-Learning/assignment-2/testing/provider.lua:25: in main chunk\n\t[C]: in function 'dofile'\n\t[string \"require 'torch'...\"]:7: in main chunk\n\t[C]: in function 'xpcall'\n\t/home/ubuntu/torch/install/share/lua/5.1/itorch/main.lua:209: in function </home/ubuntu/torch/install/share/lua/5.1/itorch/main.lua:173>\n\t/home/ubuntu/torch/install/share/lua/5.1/lzmq/poller.lua:75: in function 'poll'\n\t/home/ubuntu/torch/install/share/lua/5.1/lzmq/impl/loop.lua:307: in function 'poll'\n\t/home/ubuntu/torch/install/share/lua/5.1/lzmq/impl/loop.lua:325: in function 'sleep_ex'\n\t/home/ubuntu/torch/install/share/lua/5.1/lzmq/impl/loop.lua:370: in function 'start'\n\t/home/ubuntu/torch/install/share/lua/5.1/itorch/main.lua:381: in main chunk\n\t[C]: in function 'require'\n\t(command line):1: in main chunk\n\t[C]: at 0x00406670"
       ]
      }
     ],
     "prompt_number": 8
    },
    {
     "cell_type": "code",
     "collapsed": false,
     "input": [
      "function parseDataLabel(d, numSamples, numChannels, height, width)\n",
      "   local t = torch.ByteTensor(numSamples, numChannels, height, width)\n",
      "   local l = torch.ByteTensor(numSamples)\n",
      "   local idx = 1\n",
      "   for i = 1, #d do\n",
      "      local this_d = d[i]\n",
      "      for j = 1, #this_d do\n",
      "    t[idx]:copy(this_d[j])\n",
      "    l[idx] = i\n",
      "    idx = idx + 1\n",
      "      end\n",
      "   end\n",
      "   assert(idx == numSamples+1)\n",
      "   return t, l\n",
      "end\n",
      "\n",
      "print '==> loading dataset'\n",
      "\n",
      "test_path = '/home/ubuntu/Deep-Learning/Deep-Learning/assignment-2/christina'\n",
      "\n",
      "provider = torch.load('/home/ubuntu/Deep-Learning/Deep-Learning/assignment-2/testing/provider.t7')\n",
      "\n",
      "testData = {\n",
      "     data = torch.Tensor(),\n",
      "     labels = torch.Tensor(),\n",
      "     size = function() return testsize end\n",
      "}\n",
      "\n",
      "\n",
      "local raw_test = torch.load(test_path)\n",
      "\n",
      "testData.data, testData.labels = parseDataLabel(raw_test.data,\n",
      "                                               testsize, channel, height, width)\n",
      "testData.data = testData.data:float()\n",
      "testData.labels = testData.labels:float()\n",
      "print(testData.data:size())\n",
      "testData.mean_u = provider.mean_u\n",
      "testData.std_u = provider.std_u\n",
      "testData.mean_v = provider.std_v\n",
      "testData.std_v = provider.std_v\n"
     ],
     "language": "python",
     "metadata": {},
     "outputs": [
      {
       "metadata": {},
       "output_type": "pyout",
       "prompt_number": 6,
       "text": [
        "==> loading dataset\t\n"
       ]
      },
      {
       "ename": "/home/ubuntu/torch/install/share/lua/5.1/torch/File.lua:250: read error: read 0 blocks instead of 1 at /home/ubuntu/torch/pkg/torch/lib/TH/THDiskFile.c:323\nstack traceback:\n\t[C]: in function 'readInt'\n\t/home/ubuntu/torch/install/share/lua/5.1/torch/File.lua:250: in function 'readObject'\n\t/home/ubuntu/torch/install/share/lua/5.1/torch/File.lua:391: in function 'load'\n\t[string \"function parseDataLabel(d, numSamples, numCha...\"]:30: in main chunk\n\t[C]: in function 'xpcall'\n\t/home/ubuntu/torch/install/share/lua/5.1/itorch/main.lua:209: in function </home/ubuntu/torch/install/share/lua/5.1/itorch/main.lua:173>\n\t/home/ubuntu/torch/install/share/lua/5.1/lzmq/poller.lua:75: in function 'poll'\n\t/home/ubuntu/torch/install/share/lua/5.1/lzmq/impl/loop.lua:307: in function 'poll'\n\t/home/ubuntu/torch/install/share/lua/5.1/lzmq/impl/loop.lua:325: in function 'sleep_ex'\n\t/home/ubuntu/torch/install/share/lua/5.1/lzmq/impl/loop.lua:370: in function 'start'\n\t/home/ubuntu/torch/install/share/lua/5.1/itorch/main.lua:381: in main chunk\n\t[C]: in function 'require'\n\t(command line):1: in main chunk\n\t[C]: at 0x00406670",
       "evalue": "",
       "output_type": "pyerr",
       "traceback": [
        "/home/ubuntu/torch/install/share/lua/5.1/torch/File.lua:250: read error: read 0 blocks instead of 1 at /home/ubuntu/torch/pkg/torch/lib/TH/THDiskFile.c:323\nstack traceback:\n\t[C]: in function 'readInt'\n\t/home/ubuntu/torch/install/share/lua/5.1/torch/File.lua:250: in function 'readObject'\n\t/home/ubuntu/torch/install/share/lua/5.1/torch/File.lua:391: in function 'load'\n\t[string \"function parseDataLabel(d, numSamples, numCha...\"]:30: in main chunk\n\t[C]: in function 'xpcall'\n\t/home/ubuntu/torch/install/share/lua/5.1/itorch/main.lua:209: in function </home/ubuntu/torch/install/share/lua/5.1/itorch/main.lua:173>\n\t/home/ubuntu/torch/install/share/lua/5.1/lzmq/poller.lua:75: in function 'poll'\n\t/home/ubuntu/torch/install/share/lua/5.1/lzmq/impl/loop.lua:307: in function 'poll'\n\t/home/ubuntu/torch/install/share/lua/5.1/lzmq/impl/loop.lua:325: in function 'sleep_ex'\n\t/home/ubuntu/torch/install/share/lua/5.1/lzmq/impl/loop.lua:370: in function 'start'\n\t/home/ubuntu/torch/install/share/lua/5.1/itorch/main.lua:381: in main chunk\n\t[C]: in function 'require'\n\t(command line):1: in main chunk\n\t[C]: at 0x00406670"
       ]
      }
     ],
     "prompt_number": 6
    },
    {
     "cell_type": "code",
     "collapsed": false,
     "input": [
      "function preproc()\n",
      "   -- preprocess trainSet\n",
      "  local normalization = nn.SpatialContrastiveNormalization(1, image.gaussian1D(7))\n",
      "\n",
      "  -- get train mean\n",
      "  local mean_u = provider.mean_u\n",
      "  local std_u = provider.std_u\n",
      "  local mean_v = provider.mean_v\n",
      "  local std_v = provider.std_v\n",
      "\n",
      "\n",
      "  --preprocess test data\n",
      "  for i = 1,testData:size() do\n",
      "    xlua.progress(i,testData:size())\n",
      "     -- rgb -> yuv\n",
      "     local rgb = testData.data[i]\n",
      "     local yuv = image.rgb2yuv(rgb)\n",
      "     -- normalize y locally:\n",
      "     --yuv[{1}] = normalization(yuv[{{1}}])\n",
      "     testData.data[i] = rgb\n",
      "  end\n",
      "end"
     ],
     "language": "python",
     "metadata": {},
     "outputs": []
    },
    {
     "cell_type": "code",
     "collapsed": false,
     "input": [
      "preproc()\n",
      "image.save('../christina/test4.png',testData.data[1])\n",
      "allsize = testData.data:size(1)\n",
      "esize = 1000\n",
      "shuffle = torch.randperm(allsize):type('torch.LongTensor')\n",
      "testData.data = testData.data:index(1,shuffle)\n",
      "testData.labels = testData.labels:index(1,shuffle)\n",
      "\n",
      "testData.data = testData.data:float():narrow(1,1,esize)\n",
      "testData.labels = testData.labels:float():narrow(1,1,esize)\n",
      "torch.save('testData_1k.t7',testData)"
     ],
     "language": "python",
     "metadata": {},
     "outputs": []
    },
    {
     "cell_type": "code",
     "collapsed": false,
     "input": [],
     "language": "python",
     "metadata": {},
     "outputs": []
    }
   ],
   "metadata": {}
  }
 ]
}